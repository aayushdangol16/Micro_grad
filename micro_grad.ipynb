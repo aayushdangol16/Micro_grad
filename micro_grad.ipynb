{
  "nbformat": 4,
  "nbformat_minor": 0,
  "metadata": {
    "colab": {
      "provenance": []
    },
    "kernelspec": {
      "name": "python3",
      "display_name": "Python 3"
    },
    "language_info": {
      "name": "python"
    }
  },
  "cells": [
    {
      "cell_type": "code",
      "source": [
        "import sys\n",
        "sys.setrecursionlimit(2000)"
      ],
      "metadata": {
        "id": "3TDi3Z5kJy9r"
      },
      "execution_count": null,
      "outputs": []
    },
    {
      "cell_type": "code",
      "source": [
        "import math\n",
        "import matplotlib.pyplot as plt\n",
        "import torch\n",
        "import pandas as pd\n",
        "from sklearn.model_selection import train_test_split\n"
      ],
      "metadata": {
        "id": "RfgL2eDUS_6P"
      },
      "execution_count": null,
      "outputs": []
    },
    {
      "cell_type": "code",
      "source": [
        "def cmp(s, dt, t):\n",
        "  ex = torch.all(dt == t.grad).item()\n",
        "  app = torch.allclose(dt, t.grad)\n",
        "  maxdiff = (dt - t.grad).abs().max().item()\n",
        "  print(f'{s:15s} | exact: {str(ex):5s} | approximate: {str(app):5s} | maxdiff: {maxdiff}')"
      ],
      "metadata": {
        "id": "uvcvaPOvfzwD"
      },
      "execution_count": null,
      "outputs": []
    },
    {
      "cell_type": "code",
      "source": [
        "from graphviz import Digraph\n",
        "\n",
        "def trace(root):\n",
        "  # builds a set of all nodes and edges in a graph\n",
        "  nodes, edges = set(), set()\n",
        "  def build(v):\n",
        "    if v not in nodes:\n",
        "      nodes.add(v)\n",
        "      for child in v._prev:\n",
        "        edges.add((child, v))\n",
        "        build(child)\n",
        "  build(root)\n",
        "  return nodes, edges\n",
        "\n",
        "def draw_dot(root):\n",
        "  dot = Digraph(format='svg', graph_attr={'rankdir': 'LR'}) # LR = left to right\n",
        "\n",
        "  nodes, edges = trace(root)\n",
        "  for n in nodes:\n",
        "    uid = str(id(n))\n",
        "    # for any value in the graph, create a rectangular ('record') node for it\n",
        "    dot.node(name = uid, label = \"{ %s | data(%s) | grad(%s) }\" % (n.label, n.data.shape, n.grad.shape), shape='record')\n",
        "    if n._op:\n",
        "      # if this value is a result of some operation, create an op node for it\n",
        "      dot.node(name = uid + n._op, label = n._op)\n",
        "      # and connect this node to it\n",
        "      dot.edge(uid + n._op, uid)\n",
        "\n",
        "  for n1, n2 in edges:\n",
        "    # connect n1 to the op node of n2\n",
        "    dot.edge(str(id(n1)), str(id(n2)) + n2._op)\n",
        "\n",
        "  return dot"
      ],
      "metadata": {
        "id": "AX5KJq13oiTi"
      },
      "execution_count": null,
      "outputs": []
    },
    {
      "cell_type": "code",
      "execution_count": null,
      "metadata": {
        "id": "vbCs_Q64S3A7"
      },
      "outputs": [],
      "source": [
        "class Value():\n",
        "  def __init__(self,data,_children=(),_op='',label=''):\n",
        "    self.data=data if torch.is_tensor(data) else torch.tensor(data,dtype=float)\n",
        "    self._prev=set(_children)\n",
        "    self._op=_op\n",
        "    self.label=label\n",
        "    self.grad=torch.zeros_like(self.data)\n",
        "    self._backward=lambda:None\n",
        "\n",
        "  def __repr__(self):\n",
        "    return(f\"Value(data={self.data})\")\n",
        "\n",
        "  def __add__(self,other):\n",
        "    other=other if isinstance (other,Value) else Value(other)\n",
        "    out=Value(self.data+other.data,(self,other),'+')\n",
        "\n",
        "    def _backward():\n",
        "      if(self.data.shape==other.data.shape):\n",
        "        self.grad+=1.0 * out.grad\n",
        "        other.grad+=1.0* out.grad\n",
        "      else:\n",
        "        result=self.broadcast_check(other)\n",
        "        if len(result[0])==0:\n",
        "          self.grad+=1.0*out.grad\n",
        "        else:\n",
        "          self.grad+=out.grad.sum(dim=result[0],keepdim=False).reshape(self.grad.shape)\n",
        "\n",
        "        if len(result[1])==0:\n",
        "          other.grad+=1.0*out.grad\n",
        "        else:\n",
        "          other.grad+=out.grad.sum(dim=result[1],keepdim=False).reshape(other.grad.shape)\n",
        "\n",
        "    out._backward = _backward\n",
        "    return out\n",
        "\n",
        "\n",
        "  def __sub__(self,other):\n",
        "    other=other if isinstance (other,Value) else Value(other)\n",
        "    out=Value(self.data-other.data,(self,other),'-')\n",
        "\n",
        "    def _backward():\n",
        "      if(self.data.shape==other.data.shape):\n",
        "        self.grad+=1.0 * out.grad\n",
        "        other.grad+=-1.0* out.grad\n",
        "      else:\n",
        "        result=self.broadcast_check(other)\n",
        "        if len(result[0])==0:\n",
        "          self.grad+=1.0*out.grad\n",
        "        else:\n",
        "          self.grad+=out.grad.sum(dim=result[0],keepdim=False).reshape(self.grad.shape)\n",
        "\n",
        "        if len(result[1])==0:\n",
        "          other.grad+=-1.0*out.grad\n",
        "        else:\n",
        "          other.grad+=-out.grad.sum(dim=result[1],keepdim=False).reshape(other.grad.shape)\n",
        "\n",
        "    out._backward=_backward\n",
        "    return out\n",
        "\n",
        "\n",
        "  def __mul__(self,other):\n",
        "    other=other if isinstance (other,Value) else Value(other)\n",
        "    out=Value(self.data*other.data,(self,other),'*')\n",
        "\n",
        "    def _backward():\n",
        "      # self.grad+=other.data * out.grad\n",
        "      # other.grad+=self.data * out.grad\n",
        "      if(self.data.shape==other.data.shape):\n",
        "        self.grad+=other.data * out.grad\n",
        "        other.grad+=self.data * out.grad\n",
        "      else:\n",
        "        result=self.broadcast_check(other)\n",
        "        if len(result[0])==0:\n",
        "          self.grad+=other.data * out.grad\n",
        "        else:\n",
        "          self.grad+=(other.data * out.grad).sum(dim=result[0],keepdim=False).reshape(self.grad.shape)\n",
        "\n",
        "        if len(result[1])==0:\n",
        "          other.grad+=self.data * out.grad\n",
        "        else:\n",
        "          other.grad+=(self.data * out.grad).sum(dim=result[1],keepdim=False).reshape(other.grad.shape)\n",
        "\n",
        "    out._backward=_backward\n",
        "    return out\n",
        "\n",
        "  def __pow__(self,other):\n",
        "    assert isinstance(other, (int, float)), \"only supporting int/float powers for now\"\n",
        "    out = Value(self.data**other, (self,), f'**{other}')\n",
        "\n",
        "    def _backward():\n",
        "      self.grad+=other*(self.data**(other-1)) * out.grad\n",
        "\n",
        "    out._backward=_backward\n",
        "    return out\n",
        "\n",
        "  def __matmul__(self,other):\n",
        "    out=Value(self.data@other.data,(self,other),'@')\n",
        "\n",
        "    def _backward():\n",
        "      self.grad+=out.grad@other.data.T\n",
        "      other.grad+=self.data.T@out.grad\n",
        "\n",
        "    out._backward=_backward\n",
        "    return out\n",
        "\n",
        "  def mean(self,dim=None):\n",
        "    if dim is None:\n",
        "      out=Value(self.data.mean(),(self,),'mean')\n",
        "    else:\n",
        "      out=Value(self.data.mean(dim=dim,keepdim=False),(self,),'mean')\n",
        "\n",
        "    def _backward():\n",
        "      self.grad+=(torch.ones_like(self.data)*out.grad)/len(self.data)\n",
        "\n",
        "    out._backward=_backward\n",
        "    return out\n",
        "\n",
        "  def __neg__(self):\n",
        "    return self*-1\n",
        "\n",
        "  def __truediv__(self,other):\n",
        "    return self * other**-1\n",
        "\n",
        "  def __radd__(self,other):\n",
        "    return self+other\n",
        "\n",
        "  def __rsub__(self,other):\n",
        "    return self-other\n",
        "\n",
        "  def __rmul__(self,other):\n",
        "    return self*other\n",
        "\n",
        "  def __rtruediv__(self,other):\n",
        "    return self * other**-1\n",
        "\n",
        "  def broadcast_check_matmul\n",
        "\n",
        "  def broadcast_check(self,other):\n",
        "    c = self.data.shape\n",
        "    d = other.data.shape\n",
        "\n",
        "    max_len = max(len(c), len(d))\n",
        "    c = (1,) * (max_len - len(c)) + c\n",
        "    d = (1,) * (max_len - len(d)) + d\n",
        "\n",
        "    result={\n",
        "        0:[],\n",
        "        1:[]\n",
        "    }\n",
        "    for i, (dim_a, dim_b) in enumerate(zip(c, d)):\n",
        "        if dim_a == dim_b:\n",
        "            pass\n",
        "        elif dim_a == 1:\n",
        "            result[0].append(i)\n",
        "        elif dim_b == 1:\n",
        "            result[1].append(i)\n",
        "\n",
        "    return result\n",
        "\n",
        "  def backward(self):\n",
        "    if self.data.dim()!=0:\n",
        "      raise RuntimeError(\"Cant perform backward on non scalar\")\n",
        "    else:\n",
        "      topo=[]\n",
        "      visited=set()\n",
        "      def build_topo(v):\n",
        "        if v not in visited:\n",
        "          visited.add(v)\n",
        "          for child in v._prev:\n",
        "            build_topo(child)\n",
        "          topo.append(v)\n",
        "      build_topo(self)\n",
        "      for node in reversed(topo):\n",
        "        node.grad=torch.zeros_like(node.data)\n",
        "      self.grad=torch.ones_like(self.grad)\n",
        "      for node in reversed(topo):\n",
        "        node._backward()"
      ]
    },
    {
      "cell_type": "code",
      "source": [
        "x=Value(torch.tensor([1.0, 2.0, 3.0, 4.0]).view(4, 1),label='x')\n",
        "y=Value(torch.tensor([2.0,3.0,4.0,5.0]).view(4, 1),label='y')\n",
        "w=Value(torch.tensor([[2.0]]),label='w')\n",
        "b=Value(torch.tensor([[1.0]]),label='b')"
      ],
      "metadata": {
        "id": "2A8m99qyYAL8"
      },
      "execution_count": null,
      "outputs": []
    },
    {
      "cell_type": "code",
      "source": [
        "z=x@w+b;z.label='z'\n",
        "l=((z-y)**2).mean();l.label='l'"
      ],
      "metadata": {
        "id": "rlbFGCA9Yx3_"
      },
      "execution_count": null,
      "outputs": []
    },
    {
      "cell_type": "code",
      "source": [
        "draw_dot(l)"
      ],
      "metadata": {
        "colab": {
          "base_uri": "https://localhost:8080/",
          "height": 249
        },
        "id": "4G08OXD8aerx",
        "outputId": "401f11e1-b5c6-4f26-f613-1fcaf63d6a85"
      },
      "execution_count": null,
      "outputs": [
        {
          "output_type": "execute_result",
          "data": {
            "image/svg+xml": "<?xml version=\"1.0\" encoding=\"UTF-8\" standalone=\"no\"?>\n<!DOCTYPE svg PUBLIC \"-//W3C//DTD SVG 1.1//EN\"\n \"http://www.w3.org/Graphics/SVG/1.1/DTD/svg11.dtd\">\n<!-- Generated by graphviz version 2.43.0 (0)\n -->\n<!-- Title: %3 Pages: 1 -->\n<svg width=\"2445pt\" height=\"156pt\"\n viewBox=\"0.00 0.00 2445.09 156.00\" xmlns=\"http://www.w3.org/2000/svg\" xmlns:xlink=\"http://www.w3.org/1999/xlink\">\n<g id=\"graph0\" class=\"graph\" transform=\"scale(1 1) rotate(0) translate(4 152)\">\n<title>%3</title>\n<polygon fill=\"white\" stroke=\"transparent\" points=\"-4,4 -4,-152 2441.09,-152 2441.09,4 -4,4\"/>\n<!-- 132739988210208 -->\n<g id=\"node1\" class=\"node\">\n<title>132739988210208</title>\n<polygon fill=\"none\" stroke=\"black\" points=\"1.5,-111.5 1.5,-147.5 309.5,-147.5 309.5,-111.5 1.5,-111.5\"/>\n<text text-anchor=\"middle\" x=\"13\" y=\"-125.8\" font-family=\"Times,serif\" font-size=\"14.00\">x</text>\n<polyline fill=\"none\" stroke=\"black\" points=\"24.5,-111.5 24.5,-147.5 \"/>\n<text text-anchor=\"middle\" x=\"95.5\" y=\"-125.8\" font-family=\"Times,serif\" font-size=\"14.00\">data(torch.Size([4, 1]))</text>\n<polyline fill=\"none\" stroke=\"black\" points=\"166.5,-111.5 166.5,-147.5 \"/>\n<text text-anchor=\"middle\" x=\"238\" y=\"-125.8\" font-family=\"Times,serif\" font-size=\"14.00\">grad(torch.Size([4, 1]))</text>\n</g>\n<!-- 132739988223216@ -->\n<g id=\"node8\" class=\"node\">\n<title>132739988223216@</title>\n<ellipse fill=\"none\" stroke=\"black\" cx=\"374\" cy=\"-101.5\" rx=\"27\" ry=\"18\"/>\n<text text-anchor=\"middle\" x=\"374\" y=\"-97.8\" font-family=\"Times,serif\" font-size=\"14.00\">@</text>\n</g>\n<!-- 132739988210208&#45;&gt;132739988223216@ -->\n<g id=\"edge6\" class=\"edge\">\n<title>132739988210208&#45;&gt;132739988223216@</title>\n<path fill=\"none\" stroke=\"black\" d=\"M295.76,-111.49C310.99,-109.52 325.33,-107.66 337.43,-106.1\"/>\n<polygon fill=\"black\" stroke=\"black\" points=\"337.97,-109.56 347.44,-104.81 337.08,-102.62 337.97,-109.56\"/>\n</g>\n<!-- 132739988221008 -->\n<g id=\"node2\" class=\"node\">\n<title>132739988221008</title>\n<polygon fill=\"none\" stroke=\"black\" points=\"1305,-27.5 1305,-63.5 1610,-63.5 1610,-27.5 1305,-27.5\"/>\n<text text-anchor=\"middle\" x=\"1315\" y=\"-41.8\" font-family=\"Times,serif\" font-size=\"14.00\"> </text>\n<polyline fill=\"none\" stroke=\"black\" points=\"1325,-27.5 1325,-63.5 \"/>\n<text text-anchor=\"middle\" x=\"1396\" y=\"-41.8\" font-family=\"Times,serif\" font-size=\"14.00\">data(torch.Size([4, 1]))</text>\n<polyline fill=\"none\" stroke=\"black\" points=\"1467,-27.5 1467,-63.5 \"/>\n<text text-anchor=\"middle\" x=\"1538.5\" y=\"-41.8\" font-family=\"Times,serif\" font-size=\"14.00\">grad(torch.Size([4, 1]))</text>\n</g>\n<!-- 132739988220624**2 -->\n<g id=\"node6\" class=\"node\">\n<title>132739988220624**2</title>\n<ellipse fill=\"none\" stroke=\"black\" cx=\"1673\" cy=\"-45.5\" rx=\"27\" ry=\"18\"/>\n<text text-anchor=\"middle\" x=\"1673\" y=\"-41.8\" font-family=\"Times,serif\" font-size=\"14.00\">**2</text>\n</g>\n<!-- 132739988221008&#45;&gt;132739988220624**2 -->\n<g id=\"edge11\" class=\"edge\">\n<title>132739988221008&#45;&gt;132739988220624**2</title>\n<path fill=\"none\" stroke=\"black\" d=\"M1610.25,-45.5C1619.49,-45.5 1628.19,-45.5 1635.97,-45.5\"/>\n<polygon fill=\"black\" stroke=\"black\" points=\"1635.98,-49 1645.98,-45.5 1635.98,-42 1635.98,-49\"/>\n</g>\n<!-- 132739988221008&#45; -->\n<g id=\"node3\" class=\"node\">\n<title>132739988221008&#45;</title>\n<ellipse fill=\"none\" stroke=\"black\" cx=\"1242\" cy=\"-45.5\" rx=\"27\" ry=\"18\"/>\n<text text-anchor=\"middle\" x=\"1242\" y=\"-41.8\" font-family=\"Times,serif\" font-size=\"14.00\">&#45;</text>\n</g>\n<!-- 132739988221008&#45;&#45;&gt;132739988221008 -->\n<g id=\"edge1\" class=\"edge\">\n<title>132739988221008&#45;&#45;&gt;132739988221008</title>\n<path fill=\"none\" stroke=\"black\" d=\"M1269.18,-45.5C1276.62,-45.5 1285.3,-45.5 1294.78,-45.5\"/>\n<polygon fill=\"black\" stroke=\"black\" points=\"1294.93,-49 1304.93,-45.5 1294.93,-42 1294.93,-49\"/>\n</g>\n<!-- 132739988224656 -->\n<g id=\"node4\" class=\"node\">\n<title>132739988224656</title>\n<polygon fill=\"none\" stroke=\"black\" points=\"871,-0.5 871,-36.5 1179,-36.5 1179,-0.5 871,-0.5\"/>\n<text text-anchor=\"middle\" x=\"882.5\" y=\"-14.8\" font-family=\"Times,serif\" font-size=\"14.00\">y</text>\n<polyline fill=\"none\" stroke=\"black\" points=\"894,-0.5 894,-36.5 \"/>\n<text text-anchor=\"middle\" x=\"965\" y=\"-14.8\" font-family=\"Times,serif\" font-size=\"14.00\">data(torch.Size([4, 1]))</text>\n<polyline fill=\"none\" stroke=\"black\" points=\"1036,-0.5 1036,-36.5 \"/>\n<text text-anchor=\"middle\" x=\"1107.5\" y=\"-14.8\" font-family=\"Times,serif\" font-size=\"14.00\">grad(torch.Size([4, 1]))</text>\n</g>\n<!-- 132739988224656&#45;&gt;132739988221008&#45; -->\n<g id=\"edge9\" class=\"edge\">\n<title>132739988224656&#45;&gt;132739988221008&#45;</title>\n<path fill=\"none\" stroke=\"black\" d=\"M1169.41,-36.51C1182.46,-38.15 1194.72,-39.69 1205.28,-41.01\"/>\n<polygon fill=\"black\" stroke=\"black\" points=\"1204.88,-44.49 1215.24,-42.26 1205.75,-37.55 1204.88,-44.49\"/>\n</g>\n<!-- 132739988220624 -->\n<g id=\"node5\" class=\"node\">\n<title>132739988220624</title>\n<polygon fill=\"none\" stroke=\"black\" points=\"1736,-27.5 1736,-63.5 2041,-63.5 2041,-27.5 1736,-27.5\"/>\n<text text-anchor=\"middle\" x=\"1746\" y=\"-41.8\" font-family=\"Times,serif\" font-size=\"14.00\"> </text>\n<polyline fill=\"none\" stroke=\"black\" points=\"1756,-27.5 1756,-63.5 \"/>\n<text text-anchor=\"middle\" x=\"1827\" y=\"-41.8\" font-family=\"Times,serif\" font-size=\"14.00\">data(torch.Size([4, 1]))</text>\n<polyline fill=\"none\" stroke=\"black\" points=\"1898,-27.5 1898,-63.5 \"/>\n<text text-anchor=\"middle\" x=\"1969.5\" y=\"-41.8\" font-family=\"Times,serif\" font-size=\"14.00\">grad(torch.Size([4, 1]))</text>\n</g>\n<!-- 132739988220768mean -->\n<g id=\"node10\" class=\"node\">\n<title>132739988220768mean</title>\n<ellipse fill=\"none\" stroke=\"black\" cx=\"2107.55\" cy=\"-45.5\" rx=\"30.59\" ry=\"18\"/>\n<text text-anchor=\"middle\" x=\"2107.55\" y=\"-41.8\" font-family=\"Times,serif\" font-size=\"14.00\">mean</text>\n</g>\n<!-- 132739988220624&#45;&gt;132739988220768mean -->\n<g id=\"edge10\" class=\"edge\">\n<title>132739988220624&#45;&gt;132739988220768mean</title>\n<path fill=\"none\" stroke=\"black\" d=\"M2041.13,-45.5C2050.28,-45.5 2058.93,-45.5 2066.78,-45.5\"/>\n<polygon fill=\"black\" stroke=\"black\" points=\"2066.94,-49 2076.94,-45.5 2066.94,-42 2066.94,-49\"/>\n</g>\n<!-- 132739988220624**2&#45;&gt;132739988220624 -->\n<g id=\"edge2\" class=\"edge\">\n<title>132739988220624**2&#45;&gt;132739988220624</title>\n<path fill=\"none\" stroke=\"black\" d=\"M1700.18,-45.5C1707.62,-45.5 1716.3,-45.5 1725.78,-45.5\"/>\n<polygon fill=\"black\" stroke=\"black\" points=\"1725.93,-49 1735.93,-45.5 1725.93,-42 1725.93,-49\"/>\n</g>\n<!-- 132739988223216 -->\n<g id=\"node7\" class=\"node\">\n<title>132739988223216</title>\n<polygon fill=\"none\" stroke=\"black\" points=\"438.5,-83.5 438.5,-119.5 743.5,-119.5 743.5,-83.5 438.5,-83.5\"/>\n<text text-anchor=\"middle\" x=\"448.5\" y=\"-97.8\" font-family=\"Times,serif\" font-size=\"14.00\"> </text>\n<polyline fill=\"none\" stroke=\"black\" points=\"458.5,-83.5 458.5,-119.5 \"/>\n<text text-anchor=\"middle\" x=\"529.5\" y=\"-97.8\" font-family=\"Times,serif\" font-size=\"14.00\">data(torch.Size([4, 1]))</text>\n<polyline fill=\"none\" stroke=\"black\" points=\"600.5,-83.5 600.5,-119.5 \"/>\n<text text-anchor=\"middle\" x=\"672\" y=\"-97.8\" font-family=\"Times,serif\" font-size=\"14.00\">grad(torch.Size([4, 1]))</text>\n</g>\n<!-- 132739988221344+ -->\n<g id=\"node14\" class=\"node\">\n<title>132739988221344+</title>\n<ellipse fill=\"none\" stroke=\"black\" cx=\"808\" cy=\"-73.5\" rx=\"27\" ry=\"18\"/>\n<text text-anchor=\"middle\" x=\"808\" y=\"-69.8\" font-family=\"Times,serif\" font-size=\"14.00\">+</text>\n</g>\n<!-- 132739988223216&#45;&gt;132739988221344+ -->\n<g id=\"edge13\" class=\"edge\">\n<title>132739988223216&#45;&gt;132739988221344+</title>\n<path fill=\"none\" stroke=\"black\" d=\"M730.29,-83.49C745.14,-81.56 759.14,-79.73 771.01,-78.19\"/>\n<polygon fill=\"black\" stroke=\"black\" points=\"771.81,-81.61 781.28,-76.85 770.91,-74.67 771.81,-81.61\"/>\n</g>\n<!-- 132739988223216@&#45;&gt;132739988223216 -->\n<g id=\"edge3\" class=\"edge\">\n<title>132739988223216@&#45;&gt;132739988223216</title>\n<path fill=\"none\" stroke=\"black\" d=\"M401.36,-101.5C409.1,-101.5 418.18,-101.5 428.09,-101.5\"/>\n<polygon fill=\"black\" stroke=\"black\" points=\"428.27,-105 438.27,-101.5 428.27,-98 428.27,-105\"/>\n</g>\n<!-- 132739988220768 -->\n<g id=\"node9\" class=\"node\">\n<title>132739988220768</title>\n<polygon fill=\"none\" stroke=\"black\" points=\"2174.09,-27.5 2174.09,-63.5 2437.09,-63.5 2437.09,-27.5 2174.09,-27.5\"/>\n<text text-anchor=\"middle\" x=\"2184.09\" y=\"-41.8\" font-family=\"Times,serif\" font-size=\"14.00\">l</text>\n<polyline fill=\"none\" stroke=\"black\" points=\"2194.09,-27.5 2194.09,-63.5 \"/>\n<text text-anchor=\"middle\" x=\"2254.59\" y=\"-41.8\" font-family=\"Times,serif\" font-size=\"14.00\">data(torch.Size([]))</text>\n<polyline fill=\"none\" stroke=\"black\" points=\"2315.09,-27.5 2315.09,-63.5 \"/>\n<text text-anchor=\"middle\" x=\"2376.09\" y=\"-41.8\" font-family=\"Times,serif\" font-size=\"14.00\">grad(torch.Size([]))</text>\n</g>\n<!-- 132739988220768mean&#45;&gt;132739988220768 -->\n<g id=\"edge4\" class=\"edge\">\n<title>132739988220768mean&#45;&gt;132739988220768</title>\n<path fill=\"none\" stroke=\"black\" d=\"M2138.32,-45.5C2145.87,-45.5 2154.5,-45.5 2163.76,-45.5\"/>\n<polygon fill=\"black\" stroke=\"black\" points=\"2164.03,-49 2174.03,-45.5 2164.03,-42 2164.03,-49\"/>\n</g>\n<!-- 132739988210016 -->\n<g id=\"node11\" class=\"node\">\n<title>132739988210016</title>\n<polygon fill=\"none\" stroke=\"black\" points=\"437,-28.5 437,-64.5 745,-64.5 745,-28.5 437,-28.5\"/>\n<text text-anchor=\"middle\" x=\"448.5\" y=\"-42.8\" font-family=\"Times,serif\" font-size=\"14.00\">b</text>\n<polyline fill=\"none\" stroke=\"black\" points=\"460,-28.5 460,-64.5 \"/>\n<text text-anchor=\"middle\" x=\"531\" y=\"-42.8\" font-family=\"Times,serif\" font-size=\"14.00\">data(torch.Size([1, 1]))</text>\n<polyline fill=\"none\" stroke=\"black\" points=\"602,-28.5 602,-64.5 \"/>\n<text text-anchor=\"middle\" x=\"673.5\" y=\"-42.8\" font-family=\"Times,serif\" font-size=\"14.00\">grad(torch.Size([1, 1]))</text>\n</g>\n<!-- 132739988210016&#45;&gt;132739988221344+ -->\n<g id=\"edge8\" class=\"edge\">\n<title>132739988210016&#45;&gt;132739988221344+</title>\n<path fill=\"none\" stroke=\"black\" d=\"M735.41,-64.51C748.46,-66.15 760.72,-67.69 771.28,-69.01\"/>\n<polygon fill=\"black\" stroke=\"black\" points=\"770.88,-72.49 781.24,-70.26 771.75,-65.55 770.88,-72.49\"/>\n</g>\n<!-- 132739988210064 -->\n<g id=\"node12\" class=\"node\">\n<title>132739988210064</title>\n<polygon fill=\"none\" stroke=\"black\" points=\"0,-56.5 0,-92.5 311,-92.5 311,-56.5 0,-56.5\"/>\n<text text-anchor=\"middle\" x=\"13\" y=\"-70.8\" font-family=\"Times,serif\" font-size=\"14.00\">w</text>\n<polyline fill=\"none\" stroke=\"black\" points=\"26,-56.5 26,-92.5 \"/>\n<text text-anchor=\"middle\" x=\"97\" y=\"-70.8\" font-family=\"Times,serif\" font-size=\"14.00\">data(torch.Size([1, 1]))</text>\n<polyline fill=\"none\" stroke=\"black\" points=\"168,-56.5 168,-92.5 \"/>\n<text text-anchor=\"middle\" x=\"239.5\" y=\"-70.8\" font-family=\"Times,serif\" font-size=\"14.00\">grad(torch.Size([1, 1]))</text>\n</g>\n<!-- 132739988210064&#45;&gt;132739988223216@ -->\n<g id=\"edge7\" class=\"edge\">\n<title>132739988210064&#45;&gt;132739988223216@</title>\n<path fill=\"none\" stroke=\"black\" d=\"M300.91,-92.51C314.17,-94.16 326.62,-95.72 337.31,-97.05\"/>\n<polygon fill=\"black\" stroke=\"black\" points=\"337.03,-100.54 347.39,-98.31 337.9,-93.6 337.03,-100.54\"/>\n</g>\n<!-- 132739988221344 -->\n<g id=\"node13\" class=\"node\">\n<title>132739988221344</title>\n<polygon fill=\"none\" stroke=\"black\" points=\"871,-55.5 871,-91.5 1179,-91.5 1179,-55.5 871,-55.5\"/>\n<text text-anchor=\"middle\" x=\"882.5\" y=\"-69.8\" font-family=\"Times,serif\" font-size=\"14.00\">z</text>\n<polyline fill=\"none\" stroke=\"black\" points=\"894,-55.5 894,-91.5 \"/>\n<text text-anchor=\"middle\" x=\"965\" y=\"-69.8\" font-family=\"Times,serif\" font-size=\"14.00\">data(torch.Size([4, 1]))</text>\n<polyline fill=\"none\" stroke=\"black\" points=\"1036,-55.5 1036,-91.5 \"/>\n<text text-anchor=\"middle\" x=\"1107.5\" y=\"-69.8\" font-family=\"Times,serif\" font-size=\"14.00\">grad(torch.Size([4, 1]))</text>\n</g>\n<!-- 132739988221344&#45;&gt;132739988221008&#45; -->\n<g id=\"edge12\" class=\"edge\">\n<title>132739988221344&#45;&gt;132739988221008&#45;</title>\n<path fill=\"none\" stroke=\"black\" d=\"M1164.29,-55.49C1179.14,-53.56 1193.14,-51.73 1205.01,-50.19\"/>\n<polygon fill=\"black\" stroke=\"black\" points=\"1205.81,-53.61 1215.28,-48.85 1204.91,-46.67 1205.81,-53.61\"/>\n</g>\n<!-- 132739988221344+&#45;&gt;132739988221344 -->\n<g id=\"edge5\" class=\"edge\">\n<title>132739988221344+&#45;&gt;132739988221344</title>\n<path fill=\"none\" stroke=\"black\" d=\"M835.36,-73.5C842.77,-73.5 851.41,-73.5 860.83,-73.5\"/>\n<polygon fill=\"black\" stroke=\"black\" points=\"860.92,-77 870.92,-73.5 860.92,-70 860.92,-77\"/>\n</g>\n</g>\n</svg>\n",
            "text/plain": [
              "<graphviz.graphs.Digraph at 0x78b9efd877c0>"
            ]
          },
          "metadata": {},
          "execution_count": 130
        }
      ]
    },
    {
      "cell_type": "code",
      "source": [
        "l.backward()"
      ],
      "metadata": {
        "id": "LG1RKclcaw3U"
      },
      "execution_count": null,
      "outputs": []
    },
    {
      "cell_type": "code",
      "source": [
        "draw_dot(l)"
      ],
      "metadata": {
        "colab": {
          "base_uri": "https://localhost:8080/",
          "height": 249
        },
        "id": "8eSWX_DPaySV",
        "outputId": "2fb8cf1a-9b25-4774-f72f-a86ad4ee19fb"
      },
      "execution_count": null,
      "outputs": [
        {
          "output_type": "execute_result",
          "data": {
            "image/svg+xml": "<?xml version=\"1.0\" encoding=\"UTF-8\" standalone=\"no\"?>\n<!DOCTYPE svg PUBLIC \"-//W3C//DTD SVG 1.1//EN\"\n \"http://www.w3.org/Graphics/SVG/1.1/DTD/svg11.dtd\">\n<!-- Generated by graphviz version 2.43.0 (0)\n -->\n<!-- Title: %3 Pages: 1 -->\n<svg width=\"2445pt\" height=\"156pt\"\n viewBox=\"0.00 0.00 2445.09 156.00\" xmlns=\"http://www.w3.org/2000/svg\" xmlns:xlink=\"http://www.w3.org/1999/xlink\">\n<g id=\"graph0\" class=\"graph\" transform=\"scale(1 1) rotate(0) translate(4 152)\">\n<title>%3</title>\n<polygon fill=\"white\" stroke=\"transparent\" points=\"-4,4 -4,-152 2441.09,-152 2441.09,4 -4,4\"/>\n<!-- 132739988210208 -->\n<g id=\"node1\" class=\"node\">\n<title>132739988210208</title>\n<polygon fill=\"none\" stroke=\"black\" points=\"1.5,-111.5 1.5,-147.5 309.5,-147.5 309.5,-111.5 1.5,-111.5\"/>\n<text text-anchor=\"middle\" x=\"13\" y=\"-125.8\" font-family=\"Times,serif\" font-size=\"14.00\">x</text>\n<polyline fill=\"none\" stroke=\"black\" points=\"24.5,-111.5 24.5,-147.5 \"/>\n<text text-anchor=\"middle\" x=\"95.5\" y=\"-125.8\" font-family=\"Times,serif\" font-size=\"14.00\">data(torch.Size([4, 1]))</text>\n<polyline fill=\"none\" stroke=\"black\" points=\"166.5,-111.5 166.5,-147.5 \"/>\n<text text-anchor=\"middle\" x=\"238\" y=\"-125.8\" font-family=\"Times,serif\" font-size=\"14.00\">grad(torch.Size([4, 1]))</text>\n</g>\n<!-- 132739988223216@ -->\n<g id=\"node8\" class=\"node\">\n<title>132739988223216@</title>\n<ellipse fill=\"none\" stroke=\"black\" cx=\"374\" cy=\"-101.5\" rx=\"27\" ry=\"18\"/>\n<text text-anchor=\"middle\" x=\"374\" y=\"-97.8\" font-family=\"Times,serif\" font-size=\"14.00\">@</text>\n</g>\n<!-- 132739988210208&#45;&gt;132739988223216@ -->\n<g id=\"edge6\" class=\"edge\">\n<title>132739988210208&#45;&gt;132739988223216@</title>\n<path fill=\"none\" stroke=\"black\" d=\"M295.76,-111.49C310.99,-109.52 325.33,-107.66 337.43,-106.1\"/>\n<polygon fill=\"black\" stroke=\"black\" points=\"337.97,-109.56 347.44,-104.81 337.08,-102.62 337.97,-109.56\"/>\n</g>\n<!-- 132739988221008 -->\n<g id=\"node2\" class=\"node\">\n<title>132739988221008</title>\n<polygon fill=\"none\" stroke=\"black\" points=\"1305,-27.5 1305,-63.5 1610,-63.5 1610,-27.5 1305,-27.5\"/>\n<text text-anchor=\"middle\" x=\"1315\" y=\"-41.8\" font-family=\"Times,serif\" font-size=\"14.00\"> </text>\n<polyline fill=\"none\" stroke=\"black\" points=\"1325,-27.5 1325,-63.5 \"/>\n<text text-anchor=\"middle\" x=\"1396\" y=\"-41.8\" font-family=\"Times,serif\" font-size=\"14.00\">data(torch.Size([4, 1]))</text>\n<polyline fill=\"none\" stroke=\"black\" points=\"1467,-27.5 1467,-63.5 \"/>\n<text text-anchor=\"middle\" x=\"1538.5\" y=\"-41.8\" font-family=\"Times,serif\" font-size=\"14.00\">grad(torch.Size([4, 1]))</text>\n</g>\n<!-- 132739988220624**2 -->\n<g id=\"node6\" class=\"node\">\n<title>132739988220624**2</title>\n<ellipse fill=\"none\" stroke=\"black\" cx=\"1673\" cy=\"-45.5\" rx=\"27\" ry=\"18\"/>\n<text text-anchor=\"middle\" x=\"1673\" y=\"-41.8\" font-family=\"Times,serif\" font-size=\"14.00\">**2</text>\n</g>\n<!-- 132739988221008&#45;&gt;132739988220624**2 -->\n<g id=\"edge11\" class=\"edge\">\n<title>132739988221008&#45;&gt;132739988220624**2</title>\n<path fill=\"none\" stroke=\"black\" d=\"M1610.25,-45.5C1619.49,-45.5 1628.19,-45.5 1635.97,-45.5\"/>\n<polygon fill=\"black\" stroke=\"black\" points=\"1635.98,-49 1645.98,-45.5 1635.98,-42 1635.98,-49\"/>\n</g>\n<!-- 132739988221008&#45; -->\n<g id=\"node3\" class=\"node\">\n<title>132739988221008&#45;</title>\n<ellipse fill=\"none\" stroke=\"black\" cx=\"1242\" cy=\"-45.5\" rx=\"27\" ry=\"18\"/>\n<text text-anchor=\"middle\" x=\"1242\" y=\"-41.8\" font-family=\"Times,serif\" font-size=\"14.00\">&#45;</text>\n</g>\n<!-- 132739988221008&#45;&#45;&gt;132739988221008 -->\n<g id=\"edge1\" class=\"edge\">\n<title>132739988221008&#45;&#45;&gt;132739988221008</title>\n<path fill=\"none\" stroke=\"black\" d=\"M1269.18,-45.5C1276.62,-45.5 1285.3,-45.5 1294.78,-45.5\"/>\n<polygon fill=\"black\" stroke=\"black\" points=\"1294.93,-49 1304.93,-45.5 1294.93,-42 1294.93,-49\"/>\n</g>\n<!-- 132739988224656 -->\n<g id=\"node4\" class=\"node\">\n<title>132739988224656</title>\n<polygon fill=\"none\" stroke=\"black\" points=\"871,-0.5 871,-36.5 1179,-36.5 1179,-0.5 871,-0.5\"/>\n<text text-anchor=\"middle\" x=\"882.5\" y=\"-14.8\" font-family=\"Times,serif\" font-size=\"14.00\">y</text>\n<polyline fill=\"none\" stroke=\"black\" points=\"894,-0.5 894,-36.5 \"/>\n<text text-anchor=\"middle\" x=\"965\" y=\"-14.8\" font-family=\"Times,serif\" font-size=\"14.00\">data(torch.Size([4, 1]))</text>\n<polyline fill=\"none\" stroke=\"black\" points=\"1036,-0.5 1036,-36.5 \"/>\n<text text-anchor=\"middle\" x=\"1107.5\" y=\"-14.8\" font-family=\"Times,serif\" font-size=\"14.00\">grad(torch.Size([4, 1]))</text>\n</g>\n<!-- 132739988224656&#45;&gt;132739988221008&#45; -->\n<g id=\"edge9\" class=\"edge\">\n<title>132739988224656&#45;&gt;132739988221008&#45;</title>\n<path fill=\"none\" stroke=\"black\" d=\"M1169.41,-36.51C1182.46,-38.15 1194.72,-39.69 1205.28,-41.01\"/>\n<polygon fill=\"black\" stroke=\"black\" points=\"1204.88,-44.49 1215.24,-42.26 1205.75,-37.55 1204.88,-44.49\"/>\n</g>\n<!-- 132739988220624 -->\n<g id=\"node5\" class=\"node\">\n<title>132739988220624</title>\n<polygon fill=\"none\" stroke=\"black\" points=\"1736,-27.5 1736,-63.5 2041,-63.5 2041,-27.5 1736,-27.5\"/>\n<text text-anchor=\"middle\" x=\"1746\" y=\"-41.8\" font-family=\"Times,serif\" font-size=\"14.00\"> </text>\n<polyline fill=\"none\" stroke=\"black\" points=\"1756,-27.5 1756,-63.5 \"/>\n<text text-anchor=\"middle\" x=\"1827\" y=\"-41.8\" font-family=\"Times,serif\" font-size=\"14.00\">data(torch.Size([4, 1]))</text>\n<polyline fill=\"none\" stroke=\"black\" points=\"1898,-27.5 1898,-63.5 \"/>\n<text text-anchor=\"middle\" x=\"1969.5\" y=\"-41.8\" font-family=\"Times,serif\" font-size=\"14.00\">grad(torch.Size([4, 1]))</text>\n</g>\n<!-- 132739988220768mean -->\n<g id=\"node10\" class=\"node\">\n<title>132739988220768mean</title>\n<ellipse fill=\"none\" stroke=\"black\" cx=\"2107.55\" cy=\"-45.5\" rx=\"30.59\" ry=\"18\"/>\n<text text-anchor=\"middle\" x=\"2107.55\" y=\"-41.8\" font-family=\"Times,serif\" font-size=\"14.00\">mean</text>\n</g>\n<!-- 132739988220624&#45;&gt;132739988220768mean -->\n<g id=\"edge10\" class=\"edge\">\n<title>132739988220624&#45;&gt;132739988220768mean</title>\n<path fill=\"none\" stroke=\"black\" d=\"M2041.13,-45.5C2050.28,-45.5 2058.93,-45.5 2066.78,-45.5\"/>\n<polygon fill=\"black\" stroke=\"black\" points=\"2066.94,-49 2076.94,-45.5 2066.94,-42 2066.94,-49\"/>\n</g>\n<!-- 132739988220624**2&#45;&gt;132739988220624 -->\n<g id=\"edge2\" class=\"edge\">\n<title>132739988220624**2&#45;&gt;132739988220624</title>\n<path fill=\"none\" stroke=\"black\" d=\"M1700.18,-45.5C1707.62,-45.5 1716.3,-45.5 1725.78,-45.5\"/>\n<polygon fill=\"black\" stroke=\"black\" points=\"1725.93,-49 1735.93,-45.5 1725.93,-42 1725.93,-49\"/>\n</g>\n<!-- 132739988223216 -->\n<g id=\"node7\" class=\"node\">\n<title>132739988223216</title>\n<polygon fill=\"none\" stroke=\"black\" points=\"438.5,-83.5 438.5,-119.5 743.5,-119.5 743.5,-83.5 438.5,-83.5\"/>\n<text text-anchor=\"middle\" x=\"448.5\" y=\"-97.8\" font-family=\"Times,serif\" font-size=\"14.00\"> </text>\n<polyline fill=\"none\" stroke=\"black\" points=\"458.5,-83.5 458.5,-119.5 \"/>\n<text text-anchor=\"middle\" x=\"529.5\" y=\"-97.8\" font-family=\"Times,serif\" font-size=\"14.00\">data(torch.Size([4, 1]))</text>\n<polyline fill=\"none\" stroke=\"black\" points=\"600.5,-83.5 600.5,-119.5 \"/>\n<text text-anchor=\"middle\" x=\"672\" y=\"-97.8\" font-family=\"Times,serif\" font-size=\"14.00\">grad(torch.Size([4, 1]))</text>\n</g>\n<!-- 132739988221344+ -->\n<g id=\"node14\" class=\"node\">\n<title>132739988221344+</title>\n<ellipse fill=\"none\" stroke=\"black\" cx=\"808\" cy=\"-73.5\" rx=\"27\" ry=\"18\"/>\n<text text-anchor=\"middle\" x=\"808\" y=\"-69.8\" font-family=\"Times,serif\" font-size=\"14.00\">+</text>\n</g>\n<!-- 132739988223216&#45;&gt;132739988221344+ -->\n<g id=\"edge13\" class=\"edge\">\n<title>132739988223216&#45;&gt;132739988221344+</title>\n<path fill=\"none\" stroke=\"black\" d=\"M730.29,-83.49C745.14,-81.56 759.14,-79.73 771.01,-78.19\"/>\n<polygon fill=\"black\" stroke=\"black\" points=\"771.81,-81.61 781.28,-76.85 770.91,-74.67 771.81,-81.61\"/>\n</g>\n<!-- 132739988223216@&#45;&gt;132739988223216 -->\n<g id=\"edge3\" class=\"edge\">\n<title>132739988223216@&#45;&gt;132739988223216</title>\n<path fill=\"none\" stroke=\"black\" d=\"M401.36,-101.5C409.1,-101.5 418.18,-101.5 428.09,-101.5\"/>\n<polygon fill=\"black\" stroke=\"black\" points=\"428.27,-105 438.27,-101.5 428.27,-98 428.27,-105\"/>\n</g>\n<!-- 132739988220768 -->\n<g id=\"node9\" class=\"node\">\n<title>132739988220768</title>\n<polygon fill=\"none\" stroke=\"black\" points=\"2174.09,-27.5 2174.09,-63.5 2437.09,-63.5 2437.09,-27.5 2174.09,-27.5\"/>\n<text text-anchor=\"middle\" x=\"2184.09\" y=\"-41.8\" font-family=\"Times,serif\" font-size=\"14.00\">l</text>\n<polyline fill=\"none\" stroke=\"black\" points=\"2194.09,-27.5 2194.09,-63.5 \"/>\n<text text-anchor=\"middle\" x=\"2254.59\" y=\"-41.8\" font-family=\"Times,serif\" font-size=\"14.00\">data(torch.Size([]))</text>\n<polyline fill=\"none\" stroke=\"black\" points=\"2315.09,-27.5 2315.09,-63.5 \"/>\n<text text-anchor=\"middle\" x=\"2376.09\" y=\"-41.8\" font-family=\"Times,serif\" font-size=\"14.00\">grad(torch.Size([]))</text>\n</g>\n<!-- 132739988220768mean&#45;&gt;132739988220768 -->\n<g id=\"edge4\" class=\"edge\">\n<title>132739988220768mean&#45;&gt;132739988220768</title>\n<path fill=\"none\" stroke=\"black\" d=\"M2138.32,-45.5C2145.87,-45.5 2154.5,-45.5 2163.76,-45.5\"/>\n<polygon fill=\"black\" stroke=\"black\" points=\"2164.03,-49 2174.03,-45.5 2164.03,-42 2164.03,-49\"/>\n</g>\n<!-- 132739988210016 -->\n<g id=\"node11\" class=\"node\">\n<title>132739988210016</title>\n<polygon fill=\"none\" stroke=\"black\" points=\"437,-28.5 437,-64.5 745,-64.5 745,-28.5 437,-28.5\"/>\n<text text-anchor=\"middle\" x=\"448.5\" y=\"-42.8\" font-family=\"Times,serif\" font-size=\"14.00\">b</text>\n<polyline fill=\"none\" stroke=\"black\" points=\"460,-28.5 460,-64.5 \"/>\n<text text-anchor=\"middle\" x=\"531\" y=\"-42.8\" font-family=\"Times,serif\" font-size=\"14.00\">data(torch.Size([1, 1]))</text>\n<polyline fill=\"none\" stroke=\"black\" points=\"602,-28.5 602,-64.5 \"/>\n<text text-anchor=\"middle\" x=\"673.5\" y=\"-42.8\" font-family=\"Times,serif\" font-size=\"14.00\">grad(torch.Size([1, 1]))</text>\n</g>\n<!-- 132739988210016&#45;&gt;132739988221344+ -->\n<g id=\"edge8\" class=\"edge\">\n<title>132739988210016&#45;&gt;132739988221344+</title>\n<path fill=\"none\" stroke=\"black\" d=\"M735.41,-64.51C748.46,-66.15 760.72,-67.69 771.28,-69.01\"/>\n<polygon fill=\"black\" stroke=\"black\" points=\"770.88,-72.49 781.24,-70.26 771.75,-65.55 770.88,-72.49\"/>\n</g>\n<!-- 132739988210064 -->\n<g id=\"node12\" class=\"node\">\n<title>132739988210064</title>\n<polygon fill=\"none\" stroke=\"black\" points=\"0,-56.5 0,-92.5 311,-92.5 311,-56.5 0,-56.5\"/>\n<text text-anchor=\"middle\" x=\"13\" y=\"-70.8\" font-family=\"Times,serif\" font-size=\"14.00\">w</text>\n<polyline fill=\"none\" stroke=\"black\" points=\"26,-56.5 26,-92.5 \"/>\n<text text-anchor=\"middle\" x=\"97\" y=\"-70.8\" font-family=\"Times,serif\" font-size=\"14.00\">data(torch.Size([1, 1]))</text>\n<polyline fill=\"none\" stroke=\"black\" points=\"168,-56.5 168,-92.5 \"/>\n<text text-anchor=\"middle\" x=\"239.5\" y=\"-70.8\" font-family=\"Times,serif\" font-size=\"14.00\">grad(torch.Size([1, 1]))</text>\n</g>\n<!-- 132739988210064&#45;&gt;132739988223216@ -->\n<g id=\"edge7\" class=\"edge\">\n<title>132739988210064&#45;&gt;132739988223216@</title>\n<path fill=\"none\" stroke=\"black\" d=\"M300.91,-92.51C314.17,-94.16 326.62,-95.72 337.31,-97.05\"/>\n<polygon fill=\"black\" stroke=\"black\" points=\"337.03,-100.54 347.39,-98.31 337.9,-93.6 337.03,-100.54\"/>\n</g>\n<!-- 132739988221344 -->\n<g id=\"node13\" class=\"node\">\n<title>132739988221344</title>\n<polygon fill=\"none\" stroke=\"black\" points=\"871,-55.5 871,-91.5 1179,-91.5 1179,-55.5 871,-55.5\"/>\n<text text-anchor=\"middle\" x=\"882.5\" y=\"-69.8\" font-family=\"Times,serif\" font-size=\"14.00\">z</text>\n<polyline fill=\"none\" stroke=\"black\" points=\"894,-55.5 894,-91.5 \"/>\n<text text-anchor=\"middle\" x=\"965\" y=\"-69.8\" font-family=\"Times,serif\" font-size=\"14.00\">data(torch.Size([4, 1]))</text>\n<polyline fill=\"none\" stroke=\"black\" points=\"1036,-55.5 1036,-91.5 \"/>\n<text text-anchor=\"middle\" x=\"1107.5\" y=\"-69.8\" font-family=\"Times,serif\" font-size=\"14.00\">grad(torch.Size([4, 1]))</text>\n</g>\n<!-- 132739988221344&#45;&gt;132739988221008&#45; -->\n<g id=\"edge12\" class=\"edge\">\n<title>132739988221344&#45;&gt;132739988221008&#45;</title>\n<path fill=\"none\" stroke=\"black\" d=\"M1164.29,-55.49C1179.14,-53.56 1193.14,-51.73 1205.01,-50.19\"/>\n<polygon fill=\"black\" stroke=\"black\" points=\"1205.81,-53.61 1215.28,-48.85 1204.91,-46.67 1205.81,-53.61\"/>\n</g>\n<!-- 132739988221344+&#45;&gt;132739988221344 -->\n<g id=\"edge5\" class=\"edge\">\n<title>132739988221344+&#45;&gt;132739988221344</title>\n<path fill=\"none\" stroke=\"black\" d=\"M835.36,-73.5C842.77,-73.5 851.41,-73.5 860.83,-73.5\"/>\n<polygon fill=\"black\" stroke=\"black\" points=\"860.92,-77 870.92,-73.5 860.92,-70 860.92,-77\"/>\n</g>\n</g>\n</svg>\n",
            "text/plain": [
              "<graphviz.graphs.Digraph at 0x78b9efd87640>"
            ]
          },
          "metadata": {},
          "execution_count": 132
        }
      ]
    },
    {
      "cell_type": "code",
      "source": [
        "xx=torch.tensor([1.0, 2.0, 3.0, 4.0]).view(4, 1)\n",
        "yy=torch.tensor([2.0,3.0,4.0,5.0]).view(4, 1)\n",
        "ww=torch.tensor([[2.0]])\n",
        "ww.requires_grad_(True)\n",
        "bb=torch.tensor([[1.0]])\n",
        "bb.requires_grad_(True)"
      ],
      "metadata": {
        "colab": {
          "base_uri": "https://localhost:8080/"
        },
        "id": "I4Ft8dahcT8H",
        "outputId": "b67825ba-0f85-4d32-8159-89ee0425e8fe"
      },
      "execution_count": null,
      "outputs": [
        {
          "output_type": "execute_result",
          "data": {
            "text/plain": [
              "tensor([[1.]], requires_grad=True)"
            ]
          },
          "metadata": {},
          "execution_count": 133
        }
      ]
    },
    {
      "cell_type": "code",
      "source": [
        "zz=xx@ww+bb\n",
        "ll=((zz-yy)**2).mean()"
      ],
      "metadata": {
        "id": "nR-mEa1rcw0G"
      },
      "execution_count": null,
      "outputs": []
    },
    {
      "cell_type": "code",
      "source": [
        "ll.shape"
      ],
      "metadata": {
        "colab": {
          "base_uri": "https://localhost:8080/"
        },
        "id": "r5VeEbcANIw3",
        "outputId": "9d9aba10-d3ee-456f-d71d-063b1d4a777d"
      },
      "execution_count": null,
      "outputs": [
        {
          "output_type": "execute_result",
          "data": {
            "text/plain": [
              "torch.Size([])"
            ]
          },
          "metadata": {},
          "execution_count": 135
        }
      ]
    },
    {
      "cell_type": "code",
      "source": [
        "zz.retain_grad()\n",
        "ll.backward()"
      ],
      "metadata": {
        "id": "HaO9frPdc2f2"
      },
      "execution_count": null,
      "outputs": []
    },
    {
      "cell_type": "code",
      "source": [
        "cmp(\"z\",z.grad,zz)\n",
        "cmp(\"w\",w.grad,ww)\n",
        "cmp(\"b\",b.grad,bb)"
      ],
      "metadata": {
        "colab": {
          "base_uri": "https://localhost:8080/"
        },
        "id": "4ZvcUwG5gQRD",
        "outputId": "ea3f876f-f174-4fb5-aa7e-70ba5141b242"
      },
      "execution_count": null,
      "outputs": [
        {
          "output_type": "stream",
          "name": "stdout",
          "text": [
            "z               | exact: True  | approximate: True  | maxdiff: 0.0\n",
            "w               | exact: True  | approximate: True  | maxdiff: 0.0\n",
            "b               | exact: True  | approximate: True  | maxdiff: 0.0\n"
          ]
        }
      ]
    },
    {
      "cell_type": "code",
      "source": [
        "df=pd.read_csv(\"/content/drive/MyDrive/data.csv\")"
      ],
      "metadata": {
        "id": "L41MUdeFkyTI"
      },
      "execution_count": null,
      "outputs": []
    },
    {
      "cell_type": "code",
      "source": [
        "columns=df.columns"
      ],
      "metadata": {
        "id": "mPFFrt2xlJaB"
      },
      "execution_count": null,
      "outputs": []
    },
    {
      "cell_type": "code",
      "source": [
        "data=torch.tensor(df[columns[1:]].values,dtype=torch.float32)\n",
        "output=torch.tensor([df[columns[0]].values],dtype=torch.float32).view(545,1)"
      ],
      "metadata": {
        "id": "ywaL5eXelHDh"
      },
      "execution_count": null,
      "outputs": []
    },
    {
      "cell_type": "code",
      "source": [
        "X_train, X_test, y_train, y_test = train_test_split(data, output, test_size=0.2, random_state=42)"
      ],
      "metadata": {
        "id": "4suWy7pOlTmG"
      },
      "execution_count": null,
      "outputs": []
    },
    {
      "cell_type": "code",
      "source": [
        "w=torch.randn(X_train.shape[1],1,requires_grad=True)\n",
        "b=torch.randn(1,1,requires_grad=True)"
      ],
      "metadata": {
        "id": "6OIPrRIqAk6Q"
      },
      "execution_count": null,
      "outputs": []
    },
    {
      "cell_type": "code",
      "source": [
        "auto_z=X_train@w+b\n",
        "auto_loss=((auto_z-y_train)**2).mean()\n",
        "auto_z.retain_grad()\n",
        "auto_loss.backward()\n"
      ],
      "metadata": {
        "id": "lBupKSRVAtlN"
      },
      "execution_count": null,
      "outputs": []
    },
    {
      "cell_type": "code",
      "source": [
        "X_train=Value(X_train);X_train.label=\"X_train\"\n",
        "y_train=Value(y_train);y_train.label=\"y_train\"\n",
        "X_test=Value(X_test)\n",
        "y_test=Value(y_test)"
      ],
      "metadata": {
        "id": "a8xp1q6olcd9"
      },
      "execution_count": null,
      "outputs": []
    },
    {
      "cell_type": "code",
      "source": [
        "X_train.data.shape,y_train.data.shape"
      ],
      "metadata": {
        "colab": {
          "base_uri": "https://localhost:8080/"
        },
        "id": "Z1ytg4bZmYT0",
        "outputId": "e93181f9-6ada-4b3c-c205-69f6fa51cb5c"
      },
      "execution_count": null,
      "outputs": [
        {
          "output_type": "execute_result",
          "data": {
            "text/plain": [
              "(torch.Size([436, 14]), torch.Size([436, 1]))"
            ]
          },
          "metadata": {},
          "execution_count": 145
        }
      ]
    },
    {
      "cell_type": "code",
      "source": [
        "weight=Value(w.clone());weight.label=\"w\"\n",
        "bias=Value(b.clone());bias.label=\"b\""
      ],
      "metadata": {
        "id": "pg77odmblX88"
      },
      "execution_count": null,
      "outputs": []
    },
    {
      "cell_type": "code",
      "source": [
        "z=X_train@weight+bias;z.label=\"z\"\n",
        "loss=((z-y_train)**2).mean();loss.label=\"loss\"\n",
        "draw_dot(loss)\n"
      ],
      "metadata": {
        "id": "g8hl3vKy_-Kx",
        "colab": {
          "base_uri": "https://localhost:8080/",
          "height": 249
        },
        "outputId": "13d1b006-1f47-44df-e5bf-a90186cb2b7b"
      },
      "execution_count": null,
      "outputs": [
        {
          "output_type": "execute_result",
          "data": {
            "image/svg+xml": "<?xml version=\"1.0\" encoding=\"UTF-8\" standalone=\"no\"?>\n<!DOCTYPE svg PUBLIC \"-//W3C//DTD SVG 1.1//EN\"\n \"http://www.w3.org/Graphics/SVG/1.1/DTD/svg11.dtd\">\n<!-- Generated by graphviz version 2.43.0 (0)\n -->\n<!-- Title: %3 Pages: 1 -->\n<svg width=\"2673pt\" height=\"156pt\"\n viewBox=\"0.00 0.00 2673.09 156.00\" xmlns=\"http://www.w3.org/2000/svg\" xmlns:xlink=\"http://www.w3.org/1999/xlink\">\n<g id=\"graph0\" class=\"graph\" transform=\"scale(1 1) rotate(0) translate(4 152)\">\n<title>%3</title>\n<polygon fill=\"white\" stroke=\"transparent\" points=\"-4,4 -4,-152 2669.09,-152 2669.09,4 -4,4\"/>\n<!-- 132739988212800 -->\n<g id=\"node1\" class=\"node\">\n<title>132739988212800</title>\n<polygon fill=\"none\" stroke=\"black\" points=\"29.5,-111.5 29.5,-147.5 354.5,-147.5 354.5,-111.5 29.5,-111.5\"/>\n<text text-anchor=\"middle\" x=\"42.5\" y=\"-125.8\" font-family=\"Times,serif\" font-size=\"14.00\">w</text>\n<polyline fill=\"none\" stroke=\"black\" points=\"55.5,-111.5 55.5,-147.5 \"/>\n<text text-anchor=\"middle\" x=\"130\" y=\"-125.8\" font-family=\"Times,serif\" font-size=\"14.00\">data(torch.Size([14, 1]))</text>\n<polyline fill=\"none\" stroke=\"black\" points=\"204.5,-111.5 204.5,-147.5 \"/>\n<text text-anchor=\"middle\" x=\"279.5\" y=\"-125.8\" font-family=\"Times,serif\" font-size=\"14.00\">grad(torch.Size([14, 1]))</text>\n</g>\n<!-- 132739988213088@ -->\n<g id=\"node14\" class=\"node\">\n<title>132739988213088@</title>\n<ellipse fill=\"none\" stroke=\"black\" cx=\"447\" cy=\"-101.5\" rx=\"27\" ry=\"18\"/>\n<text text-anchor=\"middle\" x=\"447\" y=\"-97.8\" font-family=\"Times,serif\" font-size=\"14.00\">@</text>\n</g>\n<!-- 132739988212800&#45;&gt;132739988213088@ -->\n<g id=\"edge10\" class=\"edge\">\n<title>132739988212800&#45;&gt;132739988213088@</title>\n<path fill=\"none\" stroke=\"black\" d=\"M354.66,-111.61C375.28,-109.33 394.54,-107.2 410.01,-105.48\"/>\n<polygon fill=\"black\" stroke=\"black\" points=\"410.53,-108.95 420.08,-104.37 409.76,-101.99 410.53,-108.95\"/>\n</g>\n<!-- 132739988220000 -->\n<g id=\"node2\" class=\"node\">\n<title>132739988220000</title>\n<polygon fill=\"none\" stroke=\"black\" points=\"2384.09,-27.5 2384.09,-63.5 2665.09,-63.5 2665.09,-27.5 2384.09,-27.5\"/>\n<text text-anchor=\"middle\" x=\"2403.09\" y=\"-41.8\" font-family=\"Times,serif\" font-size=\"14.00\">loss</text>\n<polyline fill=\"none\" stroke=\"black\" points=\"2422.09,-27.5 2422.09,-63.5 \"/>\n<text text-anchor=\"middle\" x=\"2482.59\" y=\"-41.8\" font-family=\"Times,serif\" font-size=\"14.00\">data(torch.Size([]))</text>\n<polyline fill=\"none\" stroke=\"black\" points=\"2543.09,-27.5 2543.09,-63.5 \"/>\n<text text-anchor=\"middle\" x=\"2604.09\" y=\"-41.8\" font-family=\"Times,serif\" font-size=\"14.00\">grad(torch.Size([]))</text>\n</g>\n<!-- 132739988220000mean -->\n<g id=\"node3\" class=\"node\">\n<title>132739988220000mean</title>\n<ellipse fill=\"none\" stroke=\"black\" cx=\"2317.55\" cy=\"-45.5\" rx=\"30.59\" ry=\"18\"/>\n<text text-anchor=\"middle\" x=\"2317.55\" y=\"-41.8\" font-family=\"Times,serif\" font-size=\"14.00\">mean</text>\n</g>\n<!-- 132739988220000mean&#45;&gt;132739988220000 -->\n<g id=\"edge1\" class=\"edge\">\n<title>132739988220000mean&#45;&gt;132739988220000</title>\n<path fill=\"none\" stroke=\"black\" d=\"M2348.36,-45.5C2355.87,-45.5 2364.44,-45.5 2373.68,-45.5\"/>\n<polygon fill=\"black\" stroke=\"black\" points=\"2373.93,-49 2383.93,-45.5 2373.93,-42 2373.93,-49\"/>\n</g>\n<!-- 132739988222688 -->\n<g id=\"node4\" class=\"node\">\n<title>132739988222688</title>\n<polygon fill=\"none\" stroke=\"black\" points=\"522,-28.5 522,-64.5 830,-64.5 830,-28.5 522,-28.5\"/>\n<text text-anchor=\"middle\" x=\"533.5\" y=\"-42.8\" font-family=\"Times,serif\" font-size=\"14.00\">b</text>\n<polyline fill=\"none\" stroke=\"black\" points=\"545,-28.5 545,-64.5 \"/>\n<text text-anchor=\"middle\" x=\"616\" y=\"-42.8\" font-family=\"Times,serif\" font-size=\"14.00\">data(torch.Size([1, 1]))</text>\n<polyline fill=\"none\" stroke=\"black\" points=\"687,-28.5 687,-64.5 \"/>\n<text text-anchor=\"middle\" x=\"758.5\" y=\"-42.8\" font-family=\"Times,serif\" font-size=\"14.00\">grad(torch.Size([1, 1]))</text>\n</g>\n<!-- 132739988217072+ -->\n<g id=\"node6\" class=\"node\">\n<title>132739988217072+</title>\n<ellipse fill=\"none\" stroke=\"black\" cx=\"905\" cy=\"-73.5\" rx=\"27\" ry=\"18\"/>\n<text text-anchor=\"middle\" x=\"905\" y=\"-69.8\" font-family=\"Times,serif\" font-size=\"14.00\">+</text>\n</g>\n<!-- 132739988222688&#45;&gt;132739988217072+ -->\n<g id=\"edge6\" class=\"edge\">\n<title>132739988222688&#45;&gt;132739988217072+</title>\n<path fill=\"none\" stroke=\"black\" d=\"M828.41,-64.51C842.98,-66.24 856.61,-67.86 868.17,-69.24\"/>\n<polygon fill=\"black\" stroke=\"black\" points=\"867.83,-72.72 878.18,-70.43 868.66,-65.77 867.83,-72.72\"/>\n</g>\n<!-- 132739988217072 -->\n<g id=\"node5\" class=\"node\">\n<title>132739988217072</title>\n<polygon fill=\"none\" stroke=\"black\" points=\"984,-55.5 984,-91.5 1319,-91.5 1319,-55.5 984,-55.5\"/>\n<text text-anchor=\"middle\" x=\"995.5\" y=\"-69.8\" font-family=\"Times,serif\" font-size=\"14.00\">z</text>\n<polyline fill=\"none\" stroke=\"black\" points=\"1007,-55.5 1007,-91.5 \"/>\n<text text-anchor=\"middle\" x=\"1084.5\" y=\"-69.8\" font-family=\"Times,serif\" font-size=\"14.00\">data(torch.Size([436, 1]))</text>\n<polyline fill=\"none\" stroke=\"black\" points=\"1162,-55.5 1162,-91.5 \"/>\n<text text-anchor=\"middle\" x=\"1240.5\" y=\"-69.8\" font-family=\"Times,serif\" font-size=\"14.00\">grad(torch.Size([436, 1]))</text>\n</g>\n<!-- 132739988217600&#45; -->\n<g id=\"node10\" class=\"node\">\n<title>132739988217600&#45;</title>\n<ellipse fill=\"none\" stroke=\"black\" cx=\"1398\" cy=\"-45.5\" rx=\"27\" ry=\"18\"/>\n<text text-anchor=\"middle\" x=\"1398\" y=\"-41.8\" font-family=\"Times,serif\" font-size=\"14.00\">&#45;</text>\n</g>\n<!-- 132739988217072&#45;&gt;132739988217600&#45; -->\n<g id=\"edge7\" class=\"edge\">\n<title>132739988217072&#45;&gt;132739988217600&#45;</title>\n<path fill=\"none\" stroke=\"black\" d=\"M1309.77,-55.49C1328.86,-53.3 1346.71,-51.26 1361.23,-49.6\"/>\n<polygon fill=\"black\" stroke=\"black\" points=\"1361.64,-53.07 1371.18,-48.46 1360.85,-46.12 1361.64,-53.07\"/>\n</g>\n<!-- 132739988217072+&#45;&gt;132739988217072 -->\n<g id=\"edge2\" class=\"edge\">\n<title>132739988217072+&#45;&gt;132739988217072</title>\n<path fill=\"none\" stroke=\"black\" d=\"M932.17,-73.5C943.54,-73.5 957.91,-73.5 973.83,-73.5\"/>\n<polygon fill=\"black\" stroke=\"black\" points=\"973.93,-77 983.93,-73.5 973.93,-70 973.93,-77\"/>\n</g>\n<!-- 132739988211456 -->\n<g id=\"node7\" class=\"node\">\n<title>132739988211456</title>\n<polygon fill=\"none\" stroke=\"black\" points=\"1919,-27.5 1919,-63.5 2251,-63.5 2251,-27.5 1919,-27.5\"/>\n<text text-anchor=\"middle\" x=\"1929\" y=\"-41.8\" font-family=\"Times,serif\" font-size=\"14.00\"> </text>\n<polyline fill=\"none\" stroke=\"black\" points=\"1939,-27.5 1939,-63.5 \"/>\n<text text-anchor=\"middle\" x=\"2016.5\" y=\"-41.8\" font-family=\"Times,serif\" font-size=\"14.00\">data(torch.Size([436, 1]))</text>\n<polyline fill=\"none\" stroke=\"black\" points=\"2094,-27.5 2094,-63.5 \"/>\n<text text-anchor=\"middle\" x=\"2172.5\" y=\"-41.8\" font-family=\"Times,serif\" font-size=\"14.00\">grad(torch.Size([436, 1]))</text>\n</g>\n<!-- 132739988211456&#45;&gt;132739988220000mean -->\n<g id=\"edge9\" class=\"edge\">\n<title>132739988211456&#45;&gt;132739988220000mean</title>\n<path fill=\"none\" stroke=\"black\" d=\"M2251.1,-45.5C2260.23,-45.5 2268.84,-45.5 2276.64,-45.5\"/>\n<polygon fill=\"black\" stroke=\"black\" points=\"2276.73,-49 2286.73,-45.5 2276.73,-42 2276.73,-49\"/>\n</g>\n<!-- 132739988211456**2 -->\n<g id=\"node8\" class=\"node\">\n<title>132739988211456**2</title>\n<ellipse fill=\"none\" stroke=\"black\" cx=\"1856\" cy=\"-45.5\" rx=\"27\" ry=\"18\"/>\n<text text-anchor=\"middle\" x=\"1856\" y=\"-41.8\" font-family=\"Times,serif\" font-size=\"14.00\">**2</text>\n</g>\n<!-- 132739988211456**2&#45;&gt;132739988211456 -->\n<g id=\"edge3\" class=\"edge\">\n<title>132739988211456**2&#45;&gt;132739988211456</title>\n<path fill=\"none\" stroke=\"black\" d=\"M1883.04,-45.5C1890.47,-45.5 1899.18,-45.5 1908.72,-45.5\"/>\n<polygon fill=\"black\" stroke=\"black\" points=\"1908.94,-49 1918.94,-45.5 1908.94,-42 1908.94,-49\"/>\n</g>\n<!-- 132739988217600 -->\n<g id=\"node9\" class=\"node\">\n<title>132739988217600</title>\n<polygon fill=\"none\" stroke=\"black\" points=\"1461,-27.5 1461,-63.5 1793,-63.5 1793,-27.5 1461,-27.5\"/>\n<text text-anchor=\"middle\" x=\"1471\" y=\"-41.8\" font-family=\"Times,serif\" font-size=\"14.00\"> </text>\n<polyline fill=\"none\" stroke=\"black\" points=\"1481,-27.5 1481,-63.5 \"/>\n<text text-anchor=\"middle\" x=\"1558.5\" y=\"-41.8\" font-family=\"Times,serif\" font-size=\"14.00\">data(torch.Size([436, 1]))</text>\n<polyline fill=\"none\" stroke=\"black\" points=\"1636,-27.5 1636,-63.5 \"/>\n<text text-anchor=\"middle\" x=\"1714.5\" y=\"-41.8\" font-family=\"Times,serif\" font-size=\"14.00\">grad(torch.Size([436, 1]))</text>\n</g>\n<!-- 132739988217600&#45;&gt;132739988211456**2 -->\n<g id=\"edge11\" class=\"edge\">\n<title>132739988217600&#45;&gt;132739988211456**2</title>\n<path fill=\"none\" stroke=\"black\" d=\"M1793.27,-45.5C1802.39,-45.5 1810.95,-45.5 1818.61,-45.5\"/>\n<polygon fill=\"black\" stroke=\"black\" points=\"1818.82,-49 1828.82,-45.5 1818.82,-42 1818.82,-49\"/>\n</g>\n<!-- 132739988217600&#45;&#45;&gt;132739988217600 -->\n<g id=\"edge4\" class=\"edge\">\n<title>132739988217600&#45;&#45;&gt;132739988217600</title>\n<path fill=\"none\" stroke=\"black\" d=\"M1425.04,-45.5C1432.47,-45.5 1441.18,-45.5 1450.72,-45.5\"/>\n<polygon fill=\"black\" stroke=\"black\" points=\"1450.94,-49 1460.94,-45.5 1450.94,-42 1450.94,-49\"/>\n</g>\n<!-- 132739988225760 -->\n<g id=\"node11\" class=\"node\">\n<title>132739988225760</title>\n<polygon fill=\"none\" stroke=\"black\" points=\"0,-56.5 0,-92.5 384,-92.5 384,-56.5 0,-56.5\"/>\n<text text-anchor=\"middle\" x=\"29\" y=\"-70.8\" font-family=\"Times,serif\" font-size=\"14.00\">X_train</text>\n<polyline fill=\"none\" stroke=\"black\" points=\"58,-56.5 58,-92.5 \"/>\n<text text-anchor=\"middle\" x=\"139\" y=\"-70.8\" font-family=\"Times,serif\" font-size=\"14.00\">data(torch.Size([436, 14]))</text>\n<polyline fill=\"none\" stroke=\"black\" points=\"220,-56.5 220,-92.5 \"/>\n<text text-anchor=\"middle\" x=\"302\" y=\"-70.8\" font-family=\"Times,serif\" font-size=\"14.00\">grad(torch.Size([436, 14]))</text>\n</g>\n<!-- 132739988225760&#45;&gt;132739988213088@ -->\n<g id=\"edge13\" class=\"edge\">\n<title>132739988225760&#45;&gt;132739988213088@</title>\n<path fill=\"none\" stroke=\"black\" d=\"M361.75,-92.51C379.64,-94.42 396.24,-96.19 409.91,-97.65\"/>\n<polygon fill=\"black\" stroke=\"black\" points=\"409.88,-101.17 420.2,-98.75 410.63,-94.2 409.88,-101.17\"/>\n</g>\n<!-- 132739988224320 -->\n<g id=\"node12\" class=\"node\">\n<title>132739988224320</title>\n<polygon fill=\"none\" stroke=\"black\" points=\"968,-0.5 968,-36.5 1335,-36.5 1335,-0.5 968,-0.5\"/>\n<text text-anchor=\"middle\" x=\"995.5\" y=\"-14.8\" font-family=\"Times,serif\" font-size=\"14.00\">y_train</text>\n<polyline fill=\"none\" stroke=\"black\" points=\"1023,-0.5 1023,-36.5 \"/>\n<text text-anchor=\"middle\" x=\"1100.5\" y=\"-14.8\" font-family=\"Times,serif\" font-size=\"14.00\">data(torch.Size([436, 1]))</text>\n<polyline fill=\"none\" stroke=\"black\" points=\"1178,-0.5 1178,-36.5 \"/>\n<text text-anchor=\"middle\" x=\"1256.5\" y=\"-14.8\" font-family=\"Times,serif\" font-size=\"14.00\">grad(torch.Size([436, 1]))</text>\n</g>\n<!-- 132739988224320&#45;&gt;132739988217600&#45; -->\n<g id=\"edge12\" class=\"edge\">\n<title>132739988224320&#45;&gt;132739988217600&#45;</title>\n<path fill=\"none\" stroke=\"black\" d=\"M1315.59,-36.51C1332.28,-38.35 1347.83,-40.07 1360.77,-41.5\"/>\n<polygon fill=\"black\" stroke=\"black\" points=\"1360.68,-45.01 1371,-42.63 1361.45,-38.05 1360.68,-45.01\"/>\n</g>\n<!-- 132739988213088 -->\n<g id=\"node13\" class=\"node\">\n<title>132739988213088</title>\n<polygon fill=\"none\" stroke=\"black\" points=\"510,-83.5 510,-119.5 842,-119.5 842,-83.5 510,-83.5\"/>\n<text text-anchor=\"middle\" x=\"520\" y=\"-97.8\" font-family=\"Times,serif\" font-size=\"14.00\"> </text>\n<polyline fill=\"none\" stroke=\"black\" points=\"530,-83.5 530,-119.5 \"/>\n<text text-anchor=\"middle\" x=\"607.5\" y=\"-97.8\" font-family=\"Times,serif\" font-size=\"14.00\">data(torch.Size([436, 1]))</text>\n<polyline fill=\"none\" stroke=\"black\" points=\"685,-83.5 685,-119.5 \"/>\n<text text-anchor=\"middle\" x=\"763.5\" y=\"-97.8\" font-family=\"Times,serif\" font-size=\"14.00\">grad(torch.Size([436, 1]))</text>\n</g>\n<!-- 132739988213088&#45;&gt;132739988217072+ -->\n<g id=\"edge8\" class=\"edge\">\n<title>132739988213088&#45;&gt;132739988217072+</title>\n<path fill=\"none\" stroke=\"black\" d=\"M823.01,-83.49C839.55,-81.45 855.08,-79.53 868.04,-77.94\"/>\n<polygon fill=\"black\" stroke=\"black\" points=\"868.78,-81.37 878.28,-76.67 867.92,-74.42 868.78,-81.37\"/>\n</g>\n<!-- 132739988213088@&#45;&gt;132739988213088 -->\n<g id=\"edge5\" class=\"edge\">\n<title>132739988213088@&#45;&gt;132739988213088</title>\n<path fill=\"none\" stroke=\"black\" d=\"M474.04,-101.5C481.47,-101.5 490.18,-101.5 499.72,-101.5\"/>\n<polygon fill=\"black\" stroke=\"black\" points=\"499.94,-105 509.94,-101.5 499.94,-98 499.94,-105\"/>\n</g>\n</g>\n</svg>\n",
            "text/plain": [
              "<graphviz.graphs.Digraph at 0x78b9efd849d0>"
            ]
          },
          "metadata": {},
          "execution_count": 147
        }
      ]
    },
    {
      "cell_type": "code",
      "source": [
        "loss.backward()\n",
        "draw_dot(loss)"
      ],
      "metadata": {
        "colab": {
          "base_uri": "https://localhost:8080/",
          "height": 249
        },
        "id": "kM45RojzB2TC",
        "outputId": "b4b5984b-43c9-439d-e462-c673f69c4c23"
      },
      "execution_count": null,
      "outputs": [
        {
          "output_type": "execute_result",
          "data": {
            "image/svg+xml": "<?xml version=\"1.0\" encoding=\"UTF-8\" standalone=\"no\"?>\n<!DOCTYPE svg PUBLIC \"-//W3C//DTD SVG 1.1//EN\"\n \"http://www.w3.org/Graphics/SVG/1.1/DTD/svg11.dtd\">\n<!-- Generated by graphviz version 2.43.0 (0)\n -->\n<!-- Title: %3 Pages: 1 -->\n<svg width=\"2673pt\" height=\"156pt\"\n viewBox=\"0.00 0.00 2673.09 156.00\" xmlns=\"http://www.w3.org/2000/svg\" xmlns:xlink=\"http://www.w3.org/1999/xlink\">\n<g id=\"graph0\" class=\"graph\" transform=\"scale(1 1) rotate(0) translate(4 152)\">\n<title>%3</title>\n<polygon fill=\"white\" stroke=\"transparent\" points=\"-4,4 -4,-152 2669.09,-152 2669.09,4 -4,4\"/>\n<!-- 132739988212800 -->\n<g id=\"node1\" class=\"node\">\n<title>132739988212800</title>\n<polygon fill=\"none\" stroke=\"black\" points=\"29.5,-111.5 29.5,-147.5 354.5,-147.5 354.5,-111.5 29.5,-111.5\"/>\n<text text-anchor=\"middle\" x=\"42.5\" y=\"-125.8\" font-family=\"Times,serif\" font-size=\"14.00\">w</text>\n<polyline fill=\"none\" stroke=\"black\" points=\"55.5,-111.5 55.5,-147.5 \"/>\n<text text-anchor=\"middle\" x=\"130\" y=\"-125.8\" font-family=\"Times,serif\" font-size=\"14.00\">data(torch.Size([14, 1]))</text>\n<polyline fill=\"none\" stroke=\"black\" points=\"204.5,-111.5 204.5,-147.5 \"/>\n<text text-anchor=\"middle\" x=\"279.5\" y=\"-125.8\" font-family=\"Times,serif\" font-size=\"14.00\">grad(torch.Size([14, 1]))</text>\n</g>\n<!-- 132739988213088@ -->\n<g id=\"node14\" class=\"node\">\n<title>132739988213088@</title>\n<ellipse fill=\"none\" stroke=\"black\" cx=\"447\" cy=\"-101.5\" rx=\"27\" ry=\"18\"/>\n<text text-anchor=\"middle\" x=\"447\" y=\"-97.8\" font-family=\"Times,serif\" font-size=\"14.00\">@</text>\n</g>\n<!-- 132739988212800&#45;&gt;132739988213088@ -->\n<g id=\"edge10\" class=\"edge\">\n<title>132739988212800&#45;&gt;132739988213088@</title>\n<path fill=\"none\" stroke=\"black\" d=\"M354.66,-111.61C375.28,-109.33 394.54,-107.2 410.01,-105.48\"/>\n<polygon fill=\"black\" stroke=\"black\" points=\"410.53,-108.95 420.08,-104.37 409.76,-101.99 410.53,-108.95\"/>\n</g>\n<!-- 132739988220000 -->\n<g id=\"node2\" class=\"node\">\n<title>132739988220000</title>\n<polygon fill=\"none\" stroke=\"black\" points=\"2384.09,-27.5 2384.09,-63.5 2665.09,-63.5 2665.09,-27.5 2384.09,-27.5\"/>\n<text text-anchor=\"middle\" x=\"2403.09\" y=\"-41.8\" font-family=\"Times,serif\" font-size=\"14.00\">loss</text>\n<polyline fill=\"none\" stroke=\"black\" points=\"2422.09,-27.5 2422.09,-63.5 \"/>\n<text text-anchor=\"middle\" x=\"2482.59\" y=\"-41.8\" font-family=\"Times,serif\" font-size=\"14.00\">data(torch.Size([]))</text>\n<polyline fill=\"none\" stroke=\"black\" points=\"2543.09,-27.5 2543.09,-63.5 \"/>\n<text text-anchor=\"middle\" x=\"2604.09\" y=\"-41.8\" font-family=\"Times,serif\" font-size=\"14.00\">grad(torch.Size([]))</text>\n</g>\n<!-- 132739988220000mean -->\n<g id=\"node3\" class=\"node\">\n<title>132739988220000mean</title>\n<ellipse fill=\"none\" stroke=\"black\" cx=\"2317.55\" cy=\"-45.5\" rx=\"30.59\" ry=\"18\"/>\n<text text-anchor=\"middle\" x=\"2317.55\" y=\"-41.8\" font-family=\"Times,serif\" font-size=\"14.00\">mean</text>\n</g>\n<!-- 132739988220000mean&#45;&gt;132739988220000 -->\n<g id=\"edge1\" class=\"edge\">\n<title>132739988220000mean&#45;&gt;132739988220000</title>\n<path fill=\"none\" stroke=\"black\" d=\"M2348.36,-45.5C2355.87,-45.5 2364.44,-45.5 2373.68,-45.5\"/>\n<polygon fill=\"black\" stroke=\"black\" points=\"2373.93,-49 2383.93,-45.5 2373.93,-42 2373.93,-49\"/>\n</g>\n<!-- 132739988222688 -->\n<g id=\"node4\" class=\"node\">\n<title>132739988222688</title>\n<polygon fill=\"none\" stroke=\"black\" points=\"522,-28.5 522,-64.5 830,-64.5 830,-28.5 522,-28.5\"/>\n<text text-anchor=\"middle\" x=\"533.5\" y=\"-42.8\" font-family=\"Times,serif\" font-size=\"14.00\">b</text>\n<polyline fill=\"none\" stroke=\"black\" points=\"545,-28.5 545,-64.5 \"/>\n<text text-anchor=\"middle\" x=\"616\" y=\"-42.8\" font-family=\"Times,serif\" font-size=\"14.00\">data(torch.Size([1, 1]))</text>\n<polyline fill=\"none\" stroke=\"black\" points=\"687,-28.5 687,-64.5 \"/>\n<text text-anchor=\"middle\" x=\"758.5\" y=\"-42.8\" font-family=\"Times,serif\" font-size=\"14.00\">grad(torch.Size([1, 1]))</text>\n</g>\n<!-- 132739988217072+ -->\n<g id=\"node6\" class=\"node\">\n<title>132739988217072+</title>\n<ellipse fill=\"none\" stroke=\"black\" cx=\"905\" cy=\"-73.5\" rx=\"27\" ry=\"18\"/>\n<text text-anchor=\"middle\" x=\"905\" y=\"-69.8\" font-family=\"Times,serif\" font-size=\"14.00\">+</text>\n</g>\n<!-- 132739988222688&#45;&gt;132739988217072+ -->\n<g id=\"edge6\" class=\"edge\">\n<title>132739988222688&#45;&gt;132739988217072+</title>\n<path fill=\"none\" stroke=\"black\" d=\"M828.41,-64.51C842.98,-66.24 856.61,-67.86 868.17,-69.24\"/>\n<polygon fill=\"black\" stroke=\"black\" points=\"867.83,-72.72 878.18,-70.43 868.66,-65.77 867.83,-72.72\"/>\n</g>\n<!-- 132739988217072 -->\n<g id=\"node5\" class=\"node\">\n<title>132739988217072</title>\n<polygon fill=\"none\" stroke=\"black\" points=\"984,-55.5 984,-91.5 1319,-91.5 1319,-55.5 984,-55.5\"/>\n<text text-anchor=\"middle\" x=\"995.5\" y=\"-69.8\" font-family=\"Times,serif\" font-size=\"14.00\">z</text>\n<polyline fill=\"none\" stroke=\"black\" points=\"1007,-55.5 1007,-91.5 \"/>\n<text text-anchor=\"middle\" x=\"1084.5\" y=\"-69.8\" font-family=\"Times,serif\" font-size=\"14.00\">data(torch.Size([436, 1]))</text>\n<polyline fill=\"none\" stroke=\"black\" points=\"1162,-55.5 1162,-91.5 \"/>\n<text text-anchor=\"middle\" x=\"1240.5\" y=\"-69.8\" font-family=\"Times,serif\" font-size=\"14.00\">grad(torch.Size([436, 1]))</text>\n</g>\n<!-- 132739988217600&#45; -->\n<g id=\"node10\" class=\"node\">\n<title>132739988217600&#45;</title>\n<ellipse fill=\"none\" stroke=\"black\" cx=\"1398\" cy=\"-45.5\" rx=\"27\" ry=\"18\"/>\n<text text-anchor=\"middle\" x=\"1398\" y=\"-41.8\" font-family=\"Times,serif\" font-size=\"14.00\">&#45;</text>\n</g>\n<!-- 132739988217072&#45;&gt;132739988217600&#45; -->\n<g id=\"edge7\" class=\"edge\">\n<title>132739988217072&#45;&gt;132739988217600&#45;</title>\n<path fill=\"none\" stroke=\"black\" d=\"M1309.77,-55.49C1328.86,-53.3 1346.71,-51.26 1361.23,-49.6\"/>\n<polygon fill=\"black\" stroke=\"black\" points=\"1361.64,-53.07 1371.18,-48.46 1360.85,-46.12 1361.64,-53.07\"/>\n</g>\n<!-- 132739988217072+&#45;&gt;132739988217072 -->\n<g id=\"edge2\" class=\"edge\">\n<title>132739988217072+&#45;&gt;132739988217072</title>\n<path fill=\"none\" stroke=\"black\" d=\"M932.17,-73.5C943.54,-73.5 957.91,-73.5 973.83,-73.5\"/>\n<polygon fill=\"black\" stroke=\"black\" points=\"973.93,-77 983.93,-73.5 973.93,-70 973.93,-77\"/>\n</g>\n<!-- 132739988211456 -->\n<g id=\"node7\" class=\"node\">\n<title>132739988211456</title>\n<polygon fill=\"none\" stroke=\"black\" points=\"1919,-27.5 1919,-63.5 2251,-63.5 2251,-27.5 1919,-27.5\"/>\n<text text-anchor=\"middle\" x=\"1929\" y=\"-41.8\" font-family=\"Times,serif\" font-size=\"14.00\"> </text>\n<polyline fill=\"none\" stroke=\"black\" points=\"1939,-27.5 1939,-63.5 \"/>\n<text text-anchor=\"middle\" x=\"2016.5\" y=\"-41.8\" font-family=\"Times,serif\" font-size=\"14.00\">data(torch.Size([436, 1]))</text>\n<polyline fill=\"none\" stroke=\"black\" points=\"2094,-27.5 2094,-63.5 \"/>\n<text text-anchor=\"middle\" x=\"2172.5\" y=\"-41.8\" font-family=\"Times,serif\" font-size=\"14.00\">grad(torch.Size([436, 1]))</text>\n</g>\n<!-- 132739988211456&#45;&gt;132739988220000mean -->\n<g id=\"edge9\" class=\"edge\">\n<title>132739988211456&#45;&gt;132739988220000mean</title>\n<path fill=\"none\" stroke=\"black\" d=\"M2251.1,-45.5C2260.23,-45.5 2268.84,-45.5 2276.64,-45.5\"/>\n<polygon fill=\"black\" stroke=\"black\" points=\"2276.73,-49 2286.73,-45.5 2276.73,-42 2276.73,-49\"/>\n</g>\n<!-- 132739988211456**2 -->\n<g id=\"node8\" class=\"node\">\n<title>132739988211456**2</title>\n<ellipse fill=\"none\" stroke=\"black\" cx=\"1856\" cy=\"-45.5\" rx=\"27\" ry=\"18\"/>\n<text text-anchor=\"middle\" x=\"1856\" y=\"-41.8\" font-family=\"Times,serif\" font-size=\"14.00\">**2</text>\n</g>\n<!-- 132739988211456**2&#45;&gt;132739988211456 -->\n<g id=\"edge3\" class=\"edge\">\n<title>132739988211456**2&#45;&gt;132739988211456</title>\n<path fill=\"none\" stroke=\"black\" d=\"M1883.04,-45.5C1890.47,-45.5 1899.18,-45.5 1908.72,-45.5\"/>\n<polygon fill=\"black\" stroke=\"black\" points=\"1908.94,-49 1918.94,-45.5 1908.94,-42 1908.94,-49\"/>\n</g>\n<!-- 132739988217600 -->\n<g id=\"node9\" class=\"node\">\n<title>132739988217600</title>\n<polygon fill=\"none\" stroke=\"black\" points=\"1461,-27.5 1461,-63.5 1793,-63.5 1793,-27.5 1461,-27.5\"/>\n<text text-anchor=\"middle\" x=\"1471\" y=\"-41.8\" font-family=\"Times,serif\" font-size=\"14.00\"> </text>\n<polyline fill=\"none\" stroke=\"black\" points=\"1481,-27.5 1481,-63.5 \"/>\n<text text-anchor=\"middle\" x=\"1558.5\" y=\"-41.8\" font-family=\"Times,serif\" font-size=\"14.00\">data(torch.Size([436, 1]))</text>\n<polyline fill=\"none\" stroke=\"black\" points=\"1636,-27.5 1636,-63.5 \"/>\n<text text-anchor=\"middle\" x=\"1714.5\" y=\"-41.8\" font-family=\"Times,serif\" font-size=\"14.00\">grad(torch.Size([436, 1]))</text>\n</g>\n<!-- 132739988217600&#45;&gt;132739988211456**2 -->\n<g id=\"edge11\" class=\"edge\">\n<title>132739988217600&#45;&gt;132739988211456**2</title>\n<path fill=\"none\" stroke=\"black\" d=\"M1793.27,-45.5C1802.39,-45.5 1810.95,-45.5 1818.61,-45.5\"/>\n<polygon fill=\"black\" stroke=\"black\" points=\"1818.82,-49 1828.82,-45.5 1818.82,-42 1818.82,-49\"/>\n</g>\n<!-- 132739988217600&#45;&#45;&gt;132739988217600 -->\n<g id=\"edge4\" class=\"edge\">\n<title>132739988217600&#45;&#45;&gt;132739988217600</title>\n<path fill=\"none\" stroke=\"black\" d=\"M1425.04,-45.5C1432.47,-45.5 1441.18,-45.5 1450.72,-45.5\"/>\n<polygon fill=\"black\" stroke=\"black\" points=\"1450.94,-49 1460.94,-45.5 1450.94,-42 1450.94,-49\"/>\n</g>\n<!-- 132739988225760 -->\n<g id=\"node11\" class=\"node\">\n<title>132739988225760</title>\n<polygon fill=\"none\" stroke=\"black\" points=\"0,-56.5 0,-92.5 384,-92.5 384,-56.5 0,-56.5\"/>\n<text text-anchor=\"middle\" x=\"29\" y=\"-70.8\" font-family=\"Times,serif\" font-size=\"14.00\">X_train</text>\n<polyline fill=\"none\" stroke=\"black\" points=\"58,-56.5 58,-92.5 \"/>\n<text text-anchor=\"middle\" x=\"139\" y=\"-70.8\" font-family=\"Times,serif\" font-size=\"14.00\">data(torch.Size([436, 14]))</text>\n<polyline fill=\"none\" stroke=\"black\" points=\"220,-56.5 220,-92.5 \"/>\n<text text-anchor=\"middle\" x=\"302\" y=\"-70.8\" font-family=\"Times,serif\" font-size=\"14.00\">grad(torch.Size([436, 14]))</text>\n</g>\n<!-- 132739988225760&#45;&gt;132739988213088@ -->\n<g id=\"edge13\" class=\"edge\">\n<title>132739988225760&#45;&gt;132739988213088@</title>\n<path fill=\"none\" stroke=\"black\" d=\"M361.75,-92.51C379.64,-94.42 396.24,-96.19 409.91,-97.65\"/>\n<polygon fill=\"black\" stroke=\"black\" points=\"409.88,-101.17 420.2,-98.75 410.63,-94.2 409.88,-101.17\"/>\n</g>\n<!-- 132739988224320 -->\n<g id=\"node12\" class=\"node\">\n<title>132739988224320</title>\n<polygon fill=\"none\" stroke=\"black\" points=\"968,-0.5 968,-36.5 1335,-36.5 1335,-0.5 968,-0.5\"/>\n<text text-anchor=\"middle\" x=\"995.5\" y=\"-14.8\" font-family=\"Times,serif\" font-size=\"14.00\">y_train</text>\n<polyline fill=\"none\" stroke=\"black\" points=\"1023,-0.5 1023,-36.5 \"/>\n<text text-anchor=\"middle\" x=\"1100.5\" y=\"-14.8\" font-family=\"Times,serif\" font-size=\"14.00\">data(torch.Size([436, 1]))</text>\n<polyline fill=\"none\" stroke=\"black\" points=\"1178,-0.5 1178,-36.5 \"/>\n<text text-anchor=\"middle\" x=\"1256.5\" y=\"-14.8\" font-family=\"Times,serif\" font-size=\"14.00\">grad(torch.Size([436, 1]))</text>\n</g>\n<!-- 132739988224320&#45;&gt;132739988217600&#45; -->\n<g id=\"edge12\" class=\"edge\">\n<title>132739988224320&#45;&gt;132739988217600&#45;</title>\n<path fill=\"none\" stroke=\"black\" d=\"M1315.59,-36.51C1332.28,-38.35 1347.83,-40.07 1360.77,-41.5\"/>\n<polygon fill=\"black\" stroke=\"black\" points=\"1360.68,-45.01 1371,-42.63 1361.45,-38.05 1360.68,-45.01\"/>\n</g>\n<!-- 132739988213088 -->\n<g id=\"node13\" class=\"node\">\n<title>132739988213088</title>\n<polygon fill=\"none\" stroke=\"black\" points=\"510,-83.5 510,-119.5 842,-119.5 842,-83.5 510,-83.5\"/>\n<text text-anchor=\"middle\" x=\"520\" y=\"-97.8\" font-family=\"Times,serif\" font-size=\"14.00\"> </text>\n<polyline fill=\"none\" stroke=\"black\" points=\"530,-83.5 530,-119.5 \"/>\n<text text-anchor=\"middle\" x=\"607.5\" y=\"-97.8\" font-family=\"Times,serif\" font-size=\"14.00\">data(torch.Size([436, 1]))</text>\n<polyline fill=\"none\" stroke=\"black\" points=\"685,-83.5 685,-119.5 \"/>\n<text text-anchor=\"middle\" x=\"763.5\" y=\"-97.8\" font-family=\"Times,serif\" font-size=\"14.00\">grad(torch.Size([436, 1]))</text>\n</g>\n<!-- 132739988213088&#45;&gt;132739988217072+ -->\n<g id=\"edge8\" class=\"edge\">\n<title>132739988213088&#45;&gt;132739988217072+</title>\n<path fill=\"none\" stroke=\"black\" d=\"M823.01,-83.49C839.55,-81.45 855.08,-79.53 868.04,-77.94\"/>\n<polygon fill=\"black\" stroke=\"black\" points=\"868.78,-81.37 878.28,-76.67 867.92,-74.42 868.78,-81.37\"/>\n</g>\n<!-- 132739988213088@&#45;&gt;132739988213088 -->\n<g id=\"edge5\" class=\"edge\">\n<title>132739988213088@&#45;&gt;132739988213088</title>\n<path fill=\"none\" stroke=\"black\" d=\"M474.04,-101.5C481.47,-101.5 490.18,-101.5 499.72,-101.5\"/>\n<polygon fill=\"black\" stroke=\"black\" points=\"499.94,-105 509.94,-101.5 499.94,-98 499.94,-105\"/>\n</g>\n</g>\n</svg>\n",
            "text/plain": [
              "<graphviz.graphs.Digraph at 0x78b9efd86590>"
            ]
          },
          "metadata": {},
          "execution_count": 148
        }
      ]
    },
    {
      "cell_type": "code",
      "source": [
        "cmp(\"z\",z.grad,auto_z)\n",
        "cmp(\"weight\",weight.grad,w)\n",
        "cmp(\"bias\",bias.grad,b)"
      ],
      "metadata": {
        "colab": {
          "base_uri": "https://localhost:8080/"
        },
        "id": "-A9Vc-fwADD5",
        "outputId": "8a33646d-8e58-464a-90bd-901ee4eea4bc"
      },
      "execution_count": null,
      "outputs": [
        {
          "output_type": "stream",
          "name": "stdout",
          "text": [
            "z               | exact: True  | approximate: True  | maxdiff: 0.0\n",
            "weight          | exact: True  | approximate: True  | maxdiff: 0.0\n",
            "bias            | exact: True  | approximate: True  | maxdiff: 0.0\n"
          ]
        }
      ]
    },
    {
      "cell_type": "code",
      "source": [
        "weight=Value(torch.randn(X_train.data.shape[1],1))\n",
        "b=Value(torch.randn(1,1))\n",
        "\n",
        "alpha=0.01"
      ],
      "metadata": {
        "id": "fRWwb9jsDCKT"
      },
      "execution_count": null,
      "outputs": []
    },
    {
      "cell_type": "code",
      "source": [
        "loss_list=[]\n",
        "Valloss_list=[]\n",
        "for i in range(1500):\n",
        "  z=X_train@weight+bias\n",
        "  loss=((z-y_train)**2).mean()\n",
        "  loss_list.append(loss.data.item())\n",
        "  loss.backward()\n",
        "\n",
        "  weight=weight-alpha*weight.grad\n",
        "  bias=bias - alpha * bias.grad\n",
        "\n",
        "  z=X_test@weight+bias\n",
        "  loss=((z-y_test)**2).mean()\n",
        "  Valloss_list.append(loss.data.item())"
      ],
      "metadata": {
        "id": "nu6tqdGplscQ"
      },
      "execution_count": null,
      "outputs": []
    },
    {
      "cell_type": "code",
      "source": [
        "plt.plot(loss_list,label=\"Train Loss\")\n",
        "plt.plot(Valloss_list,label=\"Val Loss\")\n",
        "plt.legend()"
      ],
      "metadata": {
        "colab": {
          "base_uri": "https://localhost:8080/",
          "height": 447
        },
        "id": "RSkqzbJ6myS7",
        "outputId": "44a18d15-21f2-434f-c6e0-57fd1035023d"
      },
      "execution_count": null,
      "outputs": [
        {
          "output_type": "execute_result",
          "data": {
            "text/plain": [
              "<matplotlib.legend.Legend at 0x78b9ef713550>"
            ]
          },
          "metadata": {},
          "execution_count": 152
        },
        {
          "output_type": "display_data",
          "data": {
            "text/plain": [
              "<Figure size 640x480 with 1 Axes>"
            ],
            "image/png": "[encoded data removed]"
          },
          "metadata": {}
        }
      ]
    },
    {
      "cell_type": "code",
      "source": [
        "y_pred = X_test @ weight + bias\n",
        "\n",
        "ss_res = torch.sum((y_test.data-y_pred.data ) ** 2)\n",
        "ss_tot = torch.sum((y_test.data - y_test.data.mean()) ** 2)\n",
        "\n",
        "\n",
        "r2 = 1 - ss_res / ss_tot\n",
        "print(f\"R²: {r2.item()}\")"
      ],
      "metadata": {
        "colab": {
          "base_uri": "https://localhost:8080/"
        },
        "id": "UBEef7qPHHgL",
        "outputId": "212ef96c-a3d9-4e04-9868-1c85c7776bbb"
      },
      "execution_count": null,
      "outputs": [
        {
          "output_type": "stream",
          "name": "stdout",
          "text": [
            "R²: 0.6825824975967407\n"
          ]
        }
      ]
    }
  ]
}